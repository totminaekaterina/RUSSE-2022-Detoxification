{
  "nbformat": 4,
  "nbformat_minor": 0,
  "metadata": {
    "colab": {
      "name": "delete.ipynb",
      "provenance": [],
      "collapsed_sections": [],
      "authorship_tag": "ABX9TyO1xT4wVGS0jJl1pBkkrBR9",
      "include_colab_link": true
    },
    "kernelspec": {
      "name": "python3",
      "display_name": "Python 3"
    },
    "language_info": {
      "name": "python"
    },
    "accelerator": "GPU"
  },
  "cells": [
    {
      "cell_type": "markdown",
      "metadata": {
        "id": "view-in-github",
        "colab_type": "text"
      },
      "source": [
        "<a href=\"https://colab.research.google.com/github/totminaekaterina/RUSSE-2022-Detoxification/blob/main/delete.ipynb\" target=\"_parent\"><img src=\"https://colab.research.google.com/assets/colab-badge.svg\" alt=\"Open In Colab\"/></a>"
      ]
    },
    {
      "cell_type": "code",
      "source": [
        "!pip install ufal.udpipe"
      ],
      "metadata": {
        "id": "mQDCjelsiYtV",
        "colab": {
          "base_uri": "https://localhost:8080/"
        },
        "outputId": "27cf3f77-a791-4961-d917-b38fbe055b7c"
      },
      "execution_count": 1,
      "outputs": [
        {
          "output_type": "stream",
          "name": "stdout",
          "text": [
            "Collecting ufal.udpipe\n",
            "  Downloading ufal.udpipe-1.2.0.3.tar.gz (304 kB)\n",
            "\u001b[?25l\r\u001b[K     |█                               | 10 kB 21.3 MB/s eta 0:00:01\r\u001b[K     |██▏                             | 20 kB 10.8 MB/s eta 0:00:01\r\u001b[K     |███▎                            | 30 kB 6.2 MB/s eta 0:00:01\r\u001b[K     |████▎                           | 40 kB 5.9 MB/s eta 0:00:01\r\u001b[K     |█████▍                          | 51 kB 5.3 MB/s eta 0:00:01\r\u001b[K     |██████▌                         | 61 kB 5.4 MB/s eta 0:00:01\r\u001b[K     |███████▌                        | 71 kB 5.4 MB/s eta 0:00:01\r\u001b[K     |████████▋                       | 81 kB 6.0 MB/s eta 0:00:01\r\u001b[K     |█████████▊                      | 92 kB 6.0 MB/s eta 0:00:01\r\u001b[K     |██████████▊                     | 102 kB 5.5 MB/s eta 0:00:01\r\u001b[K     |███████████▉                    | 112 kB 5.5 MB/s eta 0:00:01\r\u001b[K     |█████████████                   | 122 kB 5.5 MB/s eta 0:00:01\r\u001b[K     |██████████████                  | 133 kB 5.5 MB/s eta 0:00:01\r\u001b[K     |███████████████                 | 143 kB 5.5 MB/s eta 0:00:01\r\u001b[K     |████████████████▏               | 153 kB 5.5 MB/s eta 0:00:01\r\u001b[K     |█████████████████▎              | 163 kB 5.5 MB/s eta 0:00:01\r\u001b[K     |██████████████████▎             | 174 kB 5.5 MB/s eta 0:00:01\r\u001b[K     |███████████████████▍            | 184 kB 5.5 MB/s eta 0:00:01\r\u001b[K     |████████████████████▌           | 194 kB 5.5 MB/s eta 0:00:01\r\u001b[K     |█████████████████████▌          | 204 kB 5.5 MB/s eta 0:00:01\r\u001b[K     |██████████████████████▋         | 215 kB 5.5 MB/s eta 0:00:01\r\u001b[K     |███████████████████████▊        | 225 kB 5.5 MB/s eta 0:00:01\r\u001b[K     |████████████████████████▉       | 235 kB 5.5 MB/s eta 0:00:01\r\u001b[K     |█████████████████████████▉      | 245 kB 5.5 MB/s eta 0:00:01\r\u001b[K     |███████████████████████████     | 256 kB 5.5 MB/s eta 0:00:01\r\u001b[K     |████████████████████████████    | 266 kB 5.5 MB/s eta 0:00:01\r\u001b[K     |█████████████████████████████   | 276 kB 5.5 MB/s eta 0:00:01\r\u001b[K     |██████████████████████████████▏ | 286 kB 5.5 MB/s eta 0:00:01\r\u001b[K     |███████████████████████████████▎| 296 kB 5.5 MB/s eta 0:00:01\r\u001b[K     |████████████████████████████████| 304 kB 5.5 MB/s \n",
            "\u001b[?25hBuilding wheels for collected packages: ufal.udpipe\n",
            "  Building wheel for ufal.udpipe (setup.py) ... \u001b[?25l\u001b[?25hdone\n",
            "  Created wheel for ufal.udpipe: filename=ufal.udpipe-1.2.0.3-cp37-cp37m-linux_x86_64.whl size=5626623 sha256=6e3ba69165f794f46625efaf4476344d7df6cb47af26b031635d2818715db602\n",
            "  Stored in directory: /root/.cache/pip/wheels/b8/b5/8e/3da091629a21ce2d10bf90759d0cb034ba10a5cf7a01e83d64\n",
            "Successfully built ufal.udpipe\n",
            "Installing collected packages: ufal.udpipe\n",
            "Successfully installed ufal.udpipe-1.2.0.3\n"
          ]
        }
      ]
    },
    {
      "cell_type": "code",
      "execution_count": 2,
      "metadata": {
        "id": "73nc_aL9h0CM"
      },
      "outputs": [],
      "source": [
        "import pandas as pd\n",
        "import numpy as np\n",
        "from tqdm import tqdm\n",
        "import random\n",
        "\n",
        "import gensim\n",
        "from ufal.udpipe import Model, Pipeline"
      ]
    },
    {
      "cell_type": "code",
      "source": [
        "!git clone https://github.com/skoltech-nlp/russe_detox_2022"
      ],
      "metadata": {
        "id": "_0Q68-emiend",
        "colab": {
          "base_uri": "https://localhost:8080/"
        },
        "outputId": "ac00b7d7-aa3d-4fc5-f8a6-37d8ddbc0fca"
      },
      "execution_count": 3,
      "outputs": [
        {
          "output_type": "stream",
          "name": "stdout",
          "text": [
            "Cloning into 'russe_detox_2022'...\n",
            "remote: Enumerating objects: 82, done.\u001b[K\n",
            "remote: Counting objects: 100% (53/53), done.\u001b[K\n",
            "remote: Compressing objects: 100% (35/35), done.\u001b[K\n",
            "remote: Total 82 (delta 22), reused 43 (delta 16), pack-reused 29\u001b[K\n",
            "Unpacking objects: 100% (82/82), done.\n"
          ]
        }
      ]
    },
    {
      "cell_type": "code",
      "source": [
        "!wget https://raw.githubusercontent.com/totminaekaterina/RUSSE-2022-Detoxification/main/prepared_data/dev_answers.csv\n",
        "!wget https://raw.githubusercontent.com/totminaekaterina/RUSSE-2022-Detoxification/main/prepared_data/test_answers.csv"
      ],
      "metadata": {
        "colab": {
          "base_uri": "https://localhost:8080/"
        },
        "id": "8Vvpm7kwSN8f",
        "outputId": "2dc27be5-b56b-450b-a8ec-a27f4d74a9a8"
      },
      "execution_count": 4,
      "outputs": [
        {
          "output_type": "stream",
          "name": "stdout",
          "text": [
            "--2022-02-13 15:08:28--  https://raw.githubusercontent.com/totminaekaterina/RUSSE-2022-Detoxification/main/prepared_data/dev_answers.csv\n",
            "Resolving raw.githubusercontent.com (raw.githubusercontent.com)... 185.199.108.133, 185.199.109.133, 185.199.110.133, ...\n",
            "Connecting to raw.githubusercontent.com (raw.githubusercontent.com)|185.199.108.133|:443... connected.\n",
            "HTTP request sent, awaiting response... 200 OK\n",
            "Length: 81930 (80K) [text/plain]\n",
            "Saving to: ‘dev_answers.csv’\n",
            "\n",
            "\rdev_answers.csv       0%[                    ]       0  --.-KB/s               \rdev_answers.csv     100%[===================>]  80.01K  --.-KB/s    in 0.01s   \n",
            "\n",
            "2022-02-13 15:08:28 (6.12 MB/s) - ‘dev_answers.csv’ saved [81930/81930]\n",
            "\n",
            "--2022-02-13 15:08:28--  https://raw.githubusercontent.com/totminaekaterina/RUSSE-2022-Detoxification/main/prepared_data/test_answers.csv\n",
            "Resolving raw.githubusercontent.com (raw.githubusercontent.com)... 185.199.111.133, 185.199.109.133, 185.199.108.133, ...\n",
            "Connecting to raw.githubusercontent.com (raw.githubusercontent.com)|185.199.111.133|:443... connected.\n",
            "HTTP request sent, awaiting response... 200 OK\n",
            "Length: 92089 (90K) [text/plain]\n",
            "Saving to: ‘test_answers.csv’\n",
            "\n",
            "test_answers.csv    100%[===================>]  89.93K  --.-KB/s    in 0.01s   \n",
            "\n",
            "2022-02-13 15:08:28 (6.65 MB/s) - ‘test_answers.csv’ saved [92089/92089]\n",
            "\n"
          ]
        }
      ]
    },
    {
      "cell_type": "code",
      "source": [
        "with open('/content/russe_detox_2022/baselines/delete/toxic_vocab_extended.txt', 'r') as file:\n",
        "    toxic_words = file.readlines()\n",
        "toxic_words = [sentence.strip() for sentence in toxic_words]"
      ],
      "metadata": {
        "id": "tYm59ChHilsP"
      },
      "execution_count": 5,
      "outputs": []
    },
    {
      "cell_type": "code",
      "source": [
        "modelfile = '/content/russe_detox_2022/baselines/delete/udpipe_syntagrus.model'\n",
        "model_udpipe = Model.load(modelfile)\n",
        "process_pipeline = Pipeline(model_udpipe, 'tokenize', Pipeline.DEFAULT, Pipeline.DEFAULT, 'conllu')"
      ],
      "metadata": {
        "id": "qkVbh33MjDth"
      },
      "execution_count": 6,
      "outputs": []
    },
    {
      "cell_type": "code",
      "source": [
        "def tokenize(text, tags=False, lemmas=False):\n",
        "    processed = process_pipeline.process(text)\n",
        "    content = [l for l in processed.split('\\n') if not l.startswith('#')]\n",
        "    tagged = [w.split('\\t') for w in content if w]\n",
        "    \n",
        "    tokens = []\n",
        "    for token in tagged:\n",
        "        if token[3] == 'PUNCT':\n",
        "            continue\n",
        "        \n",
        "        token_res = ''\n",
        "        if lemmas:\n",
        "            token_res = token[2]\n",
        "        else:\n",
        "            token_res = token[1]\n",
        "        if tags:\n",
        "            token_res += '_' + token[3]\n",
        "        tokens.append(token_res)\n",
        "        \n",
        "    return tokens"
      ],
      "metadata": {
        "id": "kOQ3sdlcjE_J"
      },
      "execution_count": 7,
      "outputs": []
    },
    {
      "cell_type": "code",
      "source": [
        "df = pd.read_csv('dev_answers.csv', sep='\\t')\n",
        "df.head()"
      ],
      "metadata": {
        "id": "mRWYu--mjLcz",
        "colab": {
          "base_uri": "https://localhost:8080/",
          "height": 206
        },
        "outputId": "79bd1999-839c-4a07-c48b-ed9ff16dbe11"
      },
      "execution_count": 8,
      "outputs": [
        {
          "output_type": "execute_result",
          "data": {
            "text/html": [
              "\n",
              "  <div id=\"df-e7202f67-25a1-46a5-a7f8-8dd2536c2a6d\">\n",
              "    <div class=\"colab-df-container\">\n",
              "      <div>\n",
              "<style scoped>\n",
              "    .dataframe tbody tr th:only-of-type {\n",
              "        vertical-align: middle;\n",
              "    }\n",
              "\n",
              "    .dataframe tbody tr th {\n",
              "        vertical-align: top;\n",
              "    }\n",
              "\n",
              "    .dataframe thead th {\n",
              "        text-align: right;\n",
              "    }\n",
              "</style>\n",
              "<table border=\"1\" class=\"dataframe\">\n",
              "  <thead>\n",
              "    <tr style=\"text-align: right;\">\n",
              "      <th></th>\n",
              "      <th>toxic_comment</th>\n",
              "    </tr>\n",
              "  </thead>\n",
              "  <tbody>\n",
              "    <tr>\n",
              "      <th>0</th>\n",
              "      <td>Теплые температуры горения хватит чтобы её рас...</td>\n",
              "    </tr>\n",
              "    <tr>\n",
              "      <th>1</th>\n",
              "      <td>а ты что там был.ты вообще служил</td>\n",
              "    </tr>\n",
              "    <tr>\n",
              "      <th>2</th>\n",
              "      <td>а сам где кормишься?</td>\n",
              "    </tr>\n",
              "    <tr>\n",
              "      <th>3</th>\n",
              "      <td>этому сайту я давно не доверяю, пишут разную е...</td>\n",
              "    </tr>\n",
              "    <tr>\n",
              "      <th>4</th>\n",
              "      <td>у меня сегодня подобный звонок был. достали</td>\n",
              "    </tr>\n",
              "  </tbody>\n",
              "</table>\n",
              "</div>\n",
              "      <button class=\"colab-df-convert\" onclick=\"convertToInteractive('df-e7202f67-25a1-46a5-a7f8-8dd2536c2a6d')\"\n",
              "              title=\"Convert this dataframe to an interactive table.\"\n",
              "              style=\"display:none;\">\n",
              "        \n",
              "  <svg xmlns=\"http://www.w3.org/2000/svg\" height=\"24px\"viewBox=\"0 0 24 24\"\n",
              "       width=\"24px\">\n",
              "    <path d=\"M0 0h24v24H0V0z\" fill=\"none\"/>\n",
              "    <path d=\"M18.56 5.44l.94 2.06.94-2.06 2.06-.94-2.06-.94-.94-2.06-.94 2.06-2.06.94zm-11 1L8.5 8.5l.94-2.06 2.06-.94-2.06-.94L8.5 2.5l-.94 2.06-2.06.94zm10 10l.94 2.06.94-2.06 2.06-.94-2.06-.94-.94-2.06-.94 2.06-2.06.94z\"/><path d=\"M17.41 7.96l-1.37-1.37c-.4-.4-.92-.59-1.43-.59-.52 0-1.04.2-1.43.59L10.3 9.45l-7.72 7.72c-.78.78-.78 2.05 0 2.83L4 21.41c.39.39.9.59 1.41.59.51 0 1.02-.2 1.41-.59l7.78-7.78 2.81-2.81c.8-.78.8-2.07 0-2.86zM5.41 20L4 18.59l7.72-7.72 1.47 1.35L5.41 20z\"/>\n",
              "  </svg>\n",
              "      </button>\n",
              "      \n",
              "  <style>\n",
              "    .colab-df-container {\n",
              "      display:flex;\n",
              "      flex-wrap:wrap;\n",
              "      gap: 12px;\n",
              "    }\n",
              "\n",
              "    .colab-df-convert {\n",
              "      background-color: #E8F0FE;\n",
              "      border: none;\n",
              "      border-radius: 50%;\n",
              "      cursor: pointer;\n",
              "      display: none;\n",
              "      fill: #1967D2;\n",
              "      height: 32px;\n",
              "      padding: 0 0 0 0;\n",
              "      width: 32px;\n",
              "    }\n",
              "\n",
              "    .colab-df-convert:hover {\n",
              "      background-color: #E2EBFA;\n",
              "      box-shadow: 0px 1px 2px rgba(60, 64, 67, 0.3), 0px 1px 3px 1px rgba(60, 64, 67, 0.15);\n",
              "      fill: #174EA6;\n",
              "    }\n",
              "\n",
              "    [theme=dark] .colab-df-convert {\n",
              "      background-color: #3B4455;\n",
              "      fill: #D2E3FC;\n",
              "    }\n",
              "\n",
              "    [theme=dark] .colab-df-convert:hover {\n",
              "      background-color: #434B5C;\n",
              "      box-shadow: 0px 1px 3px 1px rgba(0, 0, 0, 0.15);\n",
              "      filter: drop-shadow(0px 1px 2px rgba(0, 0, 0, 0.3));\n",
              "      fill: #FFFFFF;\n",
              "    }\n",
              "  </style>\n",
              "\n",
              "      <script>\n",
              "        const buttonEl =\n",
              "          document.querySelector('#df-e7202f67-25a1-46a5-a7f8-8dd2536c2a6d button.colab-df-convert');\n",
              "        buttonEl.style.display =\n",
              "          google.colab.kernel.accessAllowed ? 'block' : 'none';\n",
              "\n",
              "        async function convertToInteractive(key) {\n",
              "          const element = document.querySelector('#df-e7202f67-25a1-46a5-a7f8-8dd2536c2a6d');\n",
              "          const dataTable =\n",
              "            await google.colab.kernel.invokeFunction('convertToInteractive',\n",
              "                                                     [key], {});\n",
              "          if (!dataTable) return;\n",
              "\n",
              "          const docLinkHtml = 'Like what you see? Visit the ' +\n",
              "            '<a target=\"_blank\" href=https://colab.research.google.com/notebooks/data_table.ipynb>data table notebook</a>'\n",
              "            + ' to learn more about interactive tables.';\n",
              "          element.innerHTML = '';\n",
              "          dataTable['output_type'] = 'display_data';\n",
              "          await google.colab.output.renderOutput(dataTable, element);\n",
              "          const docLink = document.createElement('div');\n",
              "          docLink.innerHTML = docLinkHtml;\n",
              "          element.appendChild(docLink);\n",
              "        }\n",
              "      </script>\n",
              "    </div>\n",
              "  </div>\n",
              "  "
            ],
            "text/plain": [
              "                                       toxic_comment\n",
              "0  Теплые температуры горения хватит чтобы её рас...\n",
              "1                  а ты что там был.ты вообще служил\n",
              "2                               а сам где кормишься?\n",
              "3  этому сайту я давно не доверяю, пишут разную е...\n",
              "4        у меня сегодня подобный звонок был. достали"
            ]
          },
          "metadata": {},
          "execution_count": 8
        }
      ]
    },
    {
      "cell_type": "code",
      "source": [
        "toxic_inputs_dev = df['toxic_comment'].tolist()"
      ],
      "metadata": {
        "id": "b9304gKTRpji"
      },
      "execution_count": 9,
      "outputs": []
    },
    {
      "cell_type": "code",
      "source": [
        "ds = pd.read_csv('test_answers.csv', sep='\\t')\n",
        "ds.head()"
      ],
      "metadata": {
        "id": "HC9inoZiRfAN",
        "colab": {
          "base_uri": "https://localhost:8080/",
          "height": 206
        },
        "outputId": "2fd74ea1-8a37-4aef-d355-bcffcb9a75b4"
      },
      "execution_count": 10,
      "outputs": [
        {
          "output_type": "execute_result",
          "data": {
            "text/html": [
              "\n",
              "  <div id=\"df-becca36e-3f08-42ce-94ff-25652ce9f757\">\n",
              "    <div class=\"colab-df-container\">\n",
              "      <div>\n",
              "<style scoped>\n",
              "    .dataframe tbody tr th:only-of-type {\n",
              "        vertical-align: middle;\n",
              "    }\n",
              "\n",
              "    .dataframe tbody tr th {\n",
              "        vertical-align: top;\n",
              "    }\n",
              "\n",
              "    .dataframe thead th {\n",
              "        text-align: right;\n",
              "    }\n",
              "</style>\n",
              "<table border=\"1\" class=\"dataframe\">\n",
              "  <thead>\n",
              "    <tr style=\"text-align: right;\">\n",
              "      <th></th>\n",
              "      <th>toxic_comment</th>\n",
              "    </tr>\n",
              "  </thead>\n",
              "  <tbody>\n",
              "    <tr>\n",
              "      <th>0</th>\n",
              "      <td>Кто придумывает эту историю</td>\n",
              "    </tr>\n",
              "    <tr>\n",
              "      <th>1</th>\n",
              "      <td>В такой ситуации виноваты люди из Ростелекома,...</td>\n",
              "    </tr>\n",
              "    <tr>\n",
              "      <th>2</th>\n",
              "      <td>Актёр может и не плохой,но как человек - не хо...</td>\n",
              "    </tr>\n",
              "    <tr>\n",
              "      <th>3</th>\n",
              "      <td>наказывайте всех кто нарушает общественный пор...</td>\n",
              "    </tr>\n",
              "    <tr>\n",
              "      <th>4</th>\n",
              "      <td>Такие же люди и привели этих людей</td>\n",
              "    </tr>\n",
              "  </tbody>\n",
              "</table>\n",
              "</div>\n",
              "      <button class=\"colab-df-convert\" onclick=\"convertToInteractive('df-becca36e-3f08-42ce-94ff-25652ce9f757')\"\n",
              "              title=\"Convert this dataframe to an interactive table.\"\n",
              "              style=\"display:none;\">\n",
              "        \n",
              "  <svg xmlns=\"http://www.w3.org/2000/svg\" height=\"24px\"viewBox=\"0 0 24 24\"\n",
              "       width=\"24px\">\n",
              "    <path d=\"M0 0h24v24H0V0z\" fill=\"none\"/>\n",
              "    <path d=\"M18.56 5.44l.94 2.06.94-2.06 2.06-.94-2.06-.94-.94-2.06-.94 2.06-2.06.94zm-11 1L8.5 8.5l.94-2.06 2.06-.94-2.06-.94L8.5 2.5l-.94 2.06-2.06.94zm10 10l.94 2.06.94-2.06 2.06-.94-2.06-.94-.94-2.06-.94 2.06-2.06.94z\"/><path d=\"M17.41 7.96l-1.37-1.37c-.4-.4-.92-.59-1.43-.59-.52 0-1.04.2-1.43.59L10.3 9.45l-7.72 7.72c-.78.78-.78 2.05 0 2.83L4 21.41c.39.39.9.59 1.41.59.51 0 1.02-.2 1.41-.59l7.78-7.78 2.81-2.81c.8-.78.8-2.07 0-2.86zM5.41 20L4 18.59l7.72-7.72 1.47 1.35L5.41 20z\"/>\n",
              "  </svg>\n",
              "      </button>\n",
              "      \n",
              "  <style>\n",
              "    .colab-df-container {\n",
              "      display:flex;\n",
              "      flex-wrap:wrap;\n",
              "      gap: 12px;\n",
              "    }\n",
              "\n",
              "    .colab-df-convert {\n",
              "      background-color: #E8F0FE;\n",
              "      border: none;\n",
              "      border-radius: 50%;\n",
              "      cursor: pointer;\n",
              "      display: none;\n",
              "      fill: #1967D2;\n",
              "      height: 32px;\n",
              "      padding: 0 0 0 0;\n",
              "      width: 32px;\n",
              "    }\n",
              "\n",
              "    .colab-df-convert:hover {\n",
              "      background-color: #E2EBFA;\n",
              "      box-shadow: 0px 1px 2px rgba(60, 64, 67, 0.3), 0px 1px 3px 1px rgba(60, 64, 67, 0.15);\n",
              "      fill: #174EA6;\n",
              "    }\n",
              "\n",
              "    [theme=dark] .colab-df-convert {\n",
              "      background-color: #3B4455;\n",
              "      fill: #D2E3FC;\n",
              "    }\n",
              "\n",
              "    [theme=dark] .colab-df-convert:hover {\n",
              "      background-color: #434B5C;\n",
              "      box-shadow: 0px 1px 3px 1px rgba(0, 0, 0, 0.15);\n",
              "      filter: drop-shadow(0px 1px 2px rgba(0, 0, 0, 0.3));\n",
              "      fill: #FFFFFF;\n",
              "    }\n",
              "  </style>\n",
              "\n",
              "      <script>\n",
              "        const buttonEl =\n",
              "          document.querySelector('#df-becca36e-3f08-42ce-94ff-25652ce9f757 button.colab-df-convert');\n",
              "        buttonEl.style.display =\n",
              "          google.colab.kernel.accessAllowed ? 'block' : 'none';\n",
              "\n",
              "        async function convertToInteractive(key) {\n",
              "          const element = document.querySelector('#df-becca36e-3f08-42ce-94ff-25652ce9f757');\n",
              "          const dataTable =\n",
              "            await google.colab.kernel.invokeFunction('convertToInteractive',\n",
              "                                                     [key], {});\n",
              "          if (!dataTable) return;\n",
              "\n",
              "          const docLinkHtml = 'Like what you see? Visit the ' +\n",
              "            '<a target=\"_blank\" href=https://colab.research.google.com/notebooks/data_table.ipynb>data table notebook</a>'\n",
              "            + ' to learn more about interactive tables.';\n",
              "          element.innerHTML = '';\n",
              "          dataTable['output_type'] = 'display_data';\n",
              "          await google.colab.output.renderOutput(dataTable, element);\n",
              "          const docLink = document.createElement('div');\n",
              "          docLink.innerHTML = docLinkHtml;\n",
              "          element.appendChild(docLink);\n",
              "        }\n",
              "      </script>\n",
              "    </div>\n",
              "  </div>\n",
              "  "
            ],
            "text/plain": [
              "                                       toxic_comment\n",
              "0                        Кто придумывает эту историю\n",
              "1  В такой ситуации виноваты люди из Ростелекома,...\n",
              "2  Актёр может и не плохой,но как человек - не хо...\n",
              "3  наказывайте всех кто нарушает общественный пор...\n",
              "4                 Такие же люди и привели этих людей"
            ]
          },
          "metadata": {},
          "execution_count": 10
        }
      ]
    },
    {
      "cell_type": "code",
      "source": [
        "toxic_inputs_test = ds['toxic_comment'].tolist()"
      ],
      "metadata": {
        "id": "5odqsqbLjYKA"
      },
      "execution_count": 11,
      "outputs": []
    },
    {
      "cell_type": "code",
      "source": [
        "results_dev = []\n",
        "\n",
        "for sample in tqdm(toxic_inputs_dev):\n",
        "    try:\n",
        "        tokens_lemmas = tokenize(sample, lemmas=True)\n",
        "    except:\n",
        "        print(sample)\n",
        "        tokens_lemmas = sample.split(' ')\n",
        "    tokens = tokenize(sample, lemmas=False)\n",
        "    cleaned_sentence = [tokens[i] for i, word in enumerate(tokens_lemmas) if word not in toxic_words]\n",
        "        \n",
        "    results_dev.append(' '.join(cleaned_sentence))"
      ],
      "metadata": {
        "id": "8Zs7qjwZjadf",
        "colab": {
          "base_uri": "https://localhost:8080/"
        },
        "outputId": "9e389666-1cb6-431e-a4b5-b716026b2dc6"
      },
      "execution_count": 12,
      "outputs": [
        {
          "output_type": "stream",
          "name": "stderr",
          "text": [
            "100%|██████████| 800/800 [00:52<00:00, 15.22it/s]\n"
          ]
        }
      ]
    },
    {
      "cell_type": "code",
      "source": [
        "pd.DataFrame({\"answer\": results_dev})[\"answer\"].apply(pd.Series).to_csv(\"/content/dev_cleaned.csv\", index=False)"
      ],
      "metadata": {
        "id": "wC6siertbftX"
      },
      "execution_count": 13,
      "outputs": []
    },
    {
      "cell_type": "code",
      "source": [
        "results_test = []\n",
        "\n",
        "for sample in tqdm(toxic_inputs_test):\n",
        "    try:\n",
        "        tokens_lemmas = tokenize(sample, lemmas=True)\n",
        "    except:\n",
        "        print(sample)\n",
        "        tokens_lemmas = sample.split(' ')\n",
        "    tokens = tokenize(sample, lemmas=False)\n",
        "    cleaned_sentence = [tokens[i] for i, word in enumerate(tokens_lemmas) if word not in toxic_words]\n",
        "        \n",
        "    results_test.append(' '.join(cleaned_sentence))"
      ],
      "metadata": {
        "id": "Jym1to_mR4mW",
        "colab": {
          "base_uri": "https://localhost:8080/"
        },
        "outputId": "89a61955-d03b-4695-cc14-104db6d1c7a5"
      },
      "execution_count": 14,
      "outputs": [
        {
          "output_type": "stream",
          "name": "stderr",
          "text": [
            "100%|██████████| 875/875 [00:59<00:00, 14.77it/s]\n"
          ]
        }
      ]
    },
    {
      "cell_type": "code",
      "source": [
        "pd.DataFrame({\"answer\": results_test})[\"answer\"].apply(pd.Series).to_csv(\"/content/test_cleaned.csv\", index=False)"
      ],
      "metadata": {
        "id": "qlsvXn1Wbnrj"
      },
      "execution_count": 15,
      "outputs": []
    }
  ]
}